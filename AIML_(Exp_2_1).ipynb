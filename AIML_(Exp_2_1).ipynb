{
  "nbformat": 4,
  "nbformat_minor": 0,
  "metadata": {
    "colab": {
      "provenance": [],
      "authorship_tag": "ABX9TyOvgeFQTfIRqOkOmfLM9+w7",
      "include_colab_link": true
    },
    "kernelspec": {
      "name": "python3",
      "display_name": "Python 3"
    },
    "language_info": {
      "name": "python"
    }
  },
  "cells": [
    {
      "cell_type": "markdown",
      "metadata": {
        "id": "view-in-github",
        "colab_type": "text"
      },
      "source": [
        "<a href=\"https://colab.research.google.com/github/RishiMatura/Java-Quiz/blob/main/AIML_(Exp_2_1).ipynb\" target=\"_parent\"><img src=\"https://colab.research.google.com/assets/colab-badge.svg\" alt=\"Open In Colab\"/></a>"
      ]
    },
    {
      "cell_type": "code",
      "execution_count": null,
      "metadata": {
        "colab": {
          "base_uri": "https://localhost:8080/"
        },
        "id": "qI9VwI8hHH68",
        "outputId": "2fd5cf9a-0d58-4e5e-b56c-6fd0845a8d0b"
      },
      "outputs": [
        {
          "output_type": "stream",
          "name": "stdout",
          "text": [
            "Pi: 3.141592653589793\n",
            "Euler's number: 2.718281828459045\n"
          ]
        }
      ],
      "source": [
        ".6import math\n",
        "\n",
        "# Constants\n",
        "pi = math.pi                                                 # Pi\n",
        "print(\"Pi:\", pi)\n",
        "e = math.e                                                   # Euler's number\n",
        "print(\"Euler's number:\", e)"
      ]
    },
    {
      "cell_type": "code",
      "source": [
        "      # Basic mathematical functions\n",
        "square_root = math.sqrt(16)                                  # Square root\n",
        "print(\"Square root of 16:\", square_root)\n",
        "power = math.pow(2, 3)                                       # Exponentiation\n",
        "print(\"2^3:\", power)\n",
        "absolute = math.fabs(-5.6)                                   # Absolute value\n",
        "print(\"Absolute value of -5.6:\", absolute)"
      ],
      "metadata": {
        "colab": {
          "base_uri": "https://localhost:8080/"
        },
        "id": "B0xZfZJbOh5j",
        "outputId": "8cd58b12-e37d-46ec-fea9-af738ca78e54"
      },
      "execution_count": null,
      "outputs": [
        {
          "output_type": "stream",
          "name": "stdout",
          "text": [
            "Square root of 16: 4.0\n",
            "2^3: 8.0\n",
            "Absolute value of -5.6: 5.6\n"
          ]
        }
      ]
    },
    {
      "cell_type": "code",
      "source": [
        "# Trigonometric functions (angles in radians)\n",
        "sin_value = math.sin(math.pi/2)                              # Sine\n",
        "print(\"Sine of pi/2:\", sin_value)\n",
        "cos_value = math.cos(0)                                      # Cosine\n",
        "print(\"Cosine of 0:\", cos_value)\n",
        "tan_value = math.tan(math.pi/4)                              # Tangent\n",
        "print(\"Tangent of pi/4:\", tan_value)\n"
      ],
      "metadata": {
        "colab": {
          "base_uri": "https://localhost:8080/"
        },
        "id": "MZaMq9Q1MHq0",
        "outputId": "5becd00d-c639-4a79-d4df-a13f3068599a"
      },
      "execution_count": null,
      "outputs": [
        {
          "output_type": "stream",
          "name": "stdout",
          "text": [
            "Sine of pi/2: 1.0\n",
            "Cosine of 0: 1.0\n",
            "Tangent of pi/4: 0.9999999999999999\n"
          ]
        }
      ]
    },
    {
      "cell_type": "code",
      "source": [
        "# Logarithmic functions\n",
        "log_value = math.log(10)                                     # Natural logarithm (base e)\n",
        "print(\"Natural logarithm of 10:\", log_value)\n",
        "log10_value = math.log10(1000)                               # Base-10 logarithm\n",
        "print(\"Base-10 logarithm of 1000:\", log10_value)"
      ],
      "metadata": {
        "colab": {
          "base_uri": "https://localhost:8080/"
        },
        "id": "Egwdx5IPOpis",
        "outputId": "7a1e3d0e-e48b-427b-8a48-c28c0f3eea74"
      },
      "execution_count": null,
      "outputs": [
        {
          "output_type": "stream",
          "name": "stdout",
          "text": [
            "Natural logarithm of 10: 2.302585092994046\n",
            "Base-10 logarithm of 1000: 3.0\n"
          ]
        }
      ]
    },
    {
      "cell_type": "code",
      "source": [
        "# Round and floor/ceil and factorial\n",
        "rounded_value = round(3.7)                                   # Round to the nearest integer\n",
        "print(\"Rounded value of 3.7:\", rounded_value)\n",
        "floor_value = math.floor(3.7)                                # Round down\n",
        "print(\"Floor value of 3.7:\", floor_value)\n",
        "ceil_value = math.ceil(3.2)                                  # Round up\n",
        "print(\"Ceil value of 3.2:\", ceil_value)\n",
        "factorial_value = math.factorial(5)                          # Factorial\n",
        "print(\"Factorial of 5:\", factorial_value)"
      ],
      "metadata": {
        "colab": {
          "base_uri": "https://localhost:8080/"
        },
        "id": "tc6tcVovOsz6",
        "outputId": "f0f8a098-df37-4f6b-e3ab-9aa914906bc7"
      },
      "execution_count": null,
      "outputs": [
        {
          "output_type": "stream",
          "name": "stdout",
          "text": [
            "Rounded value of 3.7: 4\n",
            "Floor value of 3.7: 3\n",
            "Ceil value of 3.2: 4\n",
            "Factorial of 5: 120\n"
          ]
        }
      ]
    },
    {
      "cell_type": "code",
      "source": [
        "# Degrees and radians conversion\n",
        "degrees = math.degrees(math.pi)                              # Radians to degrees\n",
        "print(\"Radians to degrees (pi):\", degrees)\n",
        "radians = math.radians(180)                                  # Degrees to radians\n",
        "print(\"Degrees to radians (180):\", radians)"
      ],
      "metadata": {
        "colab": {
          "base_uri": "https://localhost:8080/"
        },
        "id": "6bLt-NkvO3FZ",
        "outputId": "8739a7d6-4387-4a74-d0b1-3441ceccdbcb"
      },
      "execution_count": null,
      "outputs": [
        {
          "output_type": "stream",
          "name": "stdout",
          "text": [
            "Radians to degrees (pi): 180.0\n",
            "Degrees to radians (180): 3.141592653589793\n"
          ]
        }
      ]
    },
    {
      "cell_type": "code",
      "source": [
        "# Hyperbolic functions\n",
        "sinh_value = math.sinh(0.0)                                  # Hyperbolic sine\n",
        "print(\"Hyperbolic sine of 0.0:\", sinh_value)\n",
        "cosh_value = math.cosh(0.0)                                  # Hyperbolic cosine\n",
        "print(\"Hyperbolic cosine of 0.0:\", cosh_value)\n",
        "tanh_value = math.tanh(0.0)                                  # Hyperbolic tangent\n",
        "print(\"Hyperbolic tangent of 0.0:\", tanh_value)"
      ],
      "metadata": {
        "id": "dMEOi29nOywt",
        "colab": {
          "base_uri": "https://localhost:8080/"
        },
        "outputId": "85ee3555-875f-4a83-e174-5fd843d25b97"
      },
      "execution_count": null,
      "outputs": [
        {
          "output_type": "stream",
          "name": "stdout",
          "text": [
            "Hyperbolic sine of 0.0: 0.0\n",
            "Hyperbolic cosine of 0.0: 1.0\n",
            "Hyperbolic tangent of 0.0: 0.0\n"
          ]
        }
      ]
    },
    {
      "cell_type": "code",
      "source": [
        "#-------------------------------------------------------------------------------------------------------------------------------------------------------------------------------"
      ],
      "metadata": {
        "id": "zqKLPCC8O8Kg"
      },
      "execution_count": null,
      "outputs": []
    },
    {
      "cell_type": "code",
      "source": [
        "import numpy as np\n",
        "\n",
        "# Create NumPy arrays and print them\n",
        "array1 = np.array([1, 2, 3, 4, 5])\n",
        "array2 = np.array([6, 7, 8, 9, 10])\n",
        "\n",
        "\n",
        "# Basic array operations\n",
        "sum_array = array1 + array2  # Element-wise addition\n",
        "diff_array = array1 - array2  # Element-wise subtraction\n",
        "product_array = array1 * array2  # Element-wise multiplication\n",
        "quotient_array = array1 / array2  # Element-wise division\n",
        "\n",
        "print(\"The two arrays are:\", array1, array2)\n",
        "print(\"Sum of Arrays:\")\n",
        "print(sum_array)\n",
        "\n",
        "print(\"Difference of Arrays:\")\n",
        "print(diff_array)\n",
        "\n",
        "print(\"Product of Arrays:\")\n",
        "print(product_array)\n",
        "\n",
        "print(\"Quotient of Arrays:\")\n",
        "print(quotient_array)\n"
      ],
      "metadata": {
        "colab": {
          "base_uri": "https://localhost:8080/"
        },
        "id": "Qg-PfhG8DViL",
        "outputId": "304b489e-136d-446e-ca7b-f67ebbcbad5f"
      },
      "execution_count": null,
      "outputs": [
        {
          "output_type": "stream",
          "name": "stdout",
          "text": [
            "The two arrays are: [1 2 3 4 5] [ 6  7  8  9 10]\n",
            "Sum of Arrays:\n",
            "[ 7  9 11 13 15]\n",
            "Difference of Arrays:\n",
            "[-5 -5 -5 -5 -5]\n",
            "Product of Arrays:\n",
            "[ 6 14 24 36 50]\n",
            "Quotient of Arrays:\n",
            "[0.16666667 0.28571429 0.375      0.44444444 0.5       ]\n"
          ]
        }
      ]
    },
    {
      "cell_type": "code",
      "source": [
        "import numpy as np\n",
        "\n",
        "# Creating a NumPy array\n",
        "my_array = np.array([1, 2, 3, 4, 5, 6])\n",
        "\n",
        "# Reshaping into a 2x3 array/matrix\n",
        "reshaped_array_1 = my_array.reshape(2, 3)\n",
        "print(\"The reshaped arrays are: \\n\")\n",
        "print(reshaped_array_1)\n",
        "print(\" \")\n",
        "# Reshaping into a 3x2  array/matrix\n",
        "reshaped_array_2 = my_array.reshape(3, 2)\n",
        "print(reshaped_array_2)\n"
      ],
      "metadata": {
        "colab": {
          "base_uri": "https://localhost:8080/"
        },
        "id": "MUZwL2SlDMCt",
        "outputId": "a734538f-8cf0-4f57-85e2-b61e382e5099"
      },
      "execution_count": null,
      "outputs": [
        {
          "output_type": "stream",
          "name": "stdout",
          "text": [
            "The reshaped arrays are: \n",
            "\n",
            "[[1 2 3]\n",
            " [4 5 6]]\n",
            " \n",
            "[[1 2]\n",
            " [3 4]\n",
            " [5 6]]\n"
          ]
        }
      ]
    },
    {
      "cell_type": "code",
      "source": [
        "# Array indexing and slicing operations\n",
        "element = array1[2]  # Access the element at index 2 (3rd element)\n",
        "slice_array = array1[1:4]  # Slice elements from index 1 to 3 (exclusive)\n",
        "\n",
        "print(\"Element at Index 2:\")\n",
        "print(element)\n",
        "\n",
        "print(\"Sliced Array (from index 1 to 3, exclusive):\")\n",
        "print(slice_array)\n"
      ],
      "metadata": {
        "colab": {
          "base_uri": "https://localhost:8080/"
        },
        "id": "AuOaATvFGzyW",
        "outputId": "a1030618-2cd9-478f-e370-439ef03220cb"
      },
      "execution_count": null,
      "outputs": [
        {
          "output_type": "stream",
          "name": "stdout",
          "text": [
            "Element at Index 2:\n",
            "3\n",
            "Sliced Array (from index 1 to 3, exclusive):\n",
            "[2 3 4]\n"
          ]
        }
      ]
    },
    {
      "cell_type": "code",
      "source": [
        "# Array aggregation functions\n",
        "# array1 = np.array([1, 2, 3, 4, 5])\n",
        "mean_value = np.mean(array1)  # Calculate the mean\n",
        "median_value = np.median(array1)  # Calculate the median\n",
        "max_value = np.max(array1)  # Find the maximum value\n",
        "min_value = np.min(array1)  # Find the minimum value\n",
        "sum_elements = np.sum(array1)  # Calculate the sum of elements\n",
        "\n",
        "print(\"Mean Value:\")\n",
        "print(mean_value)\n",
        "\n",
        "print(\"Median Value:\")\n",
        "print(median_value)\n",
        "\n",
        "print(\"Maximum Value:\")\n",
        "print(max_value)\n",
        "\n",
        "print(\"Minimum Value:\")\n",
        "print(min_value)\n",
        "\n",
        "print(\"Sum of Elements:\")\n",
        "print(sum_elements)\n"
      ],
      "metadata": {
        "colab": {
          "base_uri": "https://localhost:8080/"
        },
        "id": "qy8qFXL7G5zi",
        "outputId": "2cc7ddea-c7d3-43e9-cab6-9a068d437e01"
      },
      "execution_count": null,
      "outputs": [
        {
          "output_type": "stream",
          "name": "stdout",
          "text": [
            "Mean Value:\n",
            "3.0\n",
            "Median Value:\n",
            "3.0\n",
            "Maximum Value:\n",
            "5\n",
            "Minimum Value:\n",
            "1\n",
            "Sum of Elements:\n",
            "15\n"
          ]
        }
      ]
    },
    {
      "cell_type": "code",
      "source": [
        "# Matrix operations\n",
        "# Create two NumPy matrices\n",
        "matrix1 = np.array([[1, 2], [3, 4]])\n",
        "matrix2 = np.array([[5, 6], [7, 8]])\n",
        "\n",
        "# Matrix operations\n",
        "matrix_product = np.dot(matrix1, matrix2)  # Matrix multiplication\n",
        "transpose_matrix = np.transpose(matrix1)  # Transpose the matrix\n",
        "\n",
        "print(\"Matrix Product:\")\n",
        "print(matrix_product)\n",
        "\n",
        "print(\"Transposed Matrix:\")\n",
        "print(transpose_matrix)\n"
      ],
      "metadata": {
        "colab": {
          "base_uri": "https://localhost:8080/"
        },
        "id": "xLAsVILLHZrQ",
        "outputId": "91da6291-0415-40fe-d6b5-6f33531ece00"
      },
      "execution_count": null,
      "outputs": [
        {
          "output_type": "stream",
          "name": "stdout",
          "text": [
            "Matrix Product:\n",
            "[[19 22]\n",
            " [43 50]]\n",
            "Transposed Matrix:\n",
            "[[1 3]\n",
            " [2 4]]\n"
          ]
        }
      ]
    },
    {
      "cell_type": "code",
      "source": [
        "#-------------------------------------------------------------------------------------------------------------------------------------------------------------------------------"
      ],
      "metadata": {
        "id": "Fb7WU31CIFaU"
      },
      "execution_count": null,
      "outputs": []
    },
    {
      "cell_type": "code",
      "source": [
        "import scipy\n",
        "import numpy\n",
        "from scipy.special import factorial\n",
        "\n",
        "\n",
        "# Finding the square root of a number\n",
        "sqrt_result = numpy.lib.scimath.sqrt(25)  # Computes the square root of 25\n",
        "print(\"Square Root:\", sqrt_result)\n",
        "\n",
        "\n",
        "# Calculate the factorial of a number using the math library\n",
        "factorial_result = factorial(5)  # Computes the factorial of 5\n",
        "print(\"Factorial:\", factorial_result)\n",
        "\n"
      ],
      "metadata": {
        "colab": {
          "base_uri": "https://localhost:8080/"
        },
        "id": "dxPdYYYkJOzg",
        "outputId": "956e566e-c00a-4b7a-e2cc-b1ab8caeebff"
      },
      "execution_count": null,
      "outputs": [
        {
          "output_type": "stream",
          "name": "stdout",
          "text": [
            "Square Root: 5.0\n",
            "Factorial: 120.0\n"
          ]
        }
      ]
    },
    {
      "cell_type": "code",
      "source": [
        "import scipy.linalg as la\n",
        "\n",
        "# Define the coefficient matrix and the right-hand side vector\n",
        "A = np.array([[1, 2], [3, 4]])\n",
        "b = np.array([5, 6])\n",
        "\n",
        "# Solve the linear equation\n",
        "x = la.solve(A, b)\n",
        "\n",
        "# Print the solution\n",
        "print(\"Solutions are: \",x)"
      ],
      "metadata": {
        "colab": {
          "base_uri": "https://localhost:8080/",
          "height": 245
        },
        "id": "hPelE0dcJZxf",
        "outputId": "0d520c94-433a-463f-ac09-b9547737600b"
      },
      "execution_count": null,
      "outputs": [
        {
          "output_type": "error",
          "ename": "NameError",
          "evalue": "ignored",
          "traceback": [
            "\u001b[0;31m---------------------------------------------------------------------------\u001b[0m",
            "\u001b[0;31mNameError\u001b[0m                                 Traceback (most recent call last)",
            "\u001b[0;32m<ipython-input-3-e001aceba23a>\u001b[0m in \u001b[0;36m<cell line: 4>\u001b[0;34m()\u001b[0m\n\u001b[1;32m      2\u001b[0m \u001b[0;34m\u001b[0m\u001b[0m\n\u001b[1;32m      3\u001b[0m \u001b[0;31m# Define the coefficient matrix and the right-hand side vector\u001b[0m\u001b[0;34m\u001b[0m\u001b[0;34m\u001b[0m\u001b[0m\n\u001b[0;32m----> 4\u001b[0;31m \u001b[0mA\u001b[0m \u001b[0;34m=\u001b[0m \u001b[0mnp\u001b[0m\u001b[0;34m.\u001b[0m\u001b[0marray\u001b[0m\u001b[0;34m(\u001b[0m\u001b[0;34m[\u001b[0m\u001b[0;34m[\u001b[0m\u001b[0;36m1\u001b[0m\u001b[0;34m,\u001b[0m \u001b[0;36m2\u001b[0m\u001b[0;34m]\u001b[0m\u001b[0;34m,\u001b[0m \u001b[0;34m[\u001b[0m\u001b[0;36m3\u001b[0m\u001b[0;34m,\u001b[0m \u001b[0;36m4\u001b[0m\u001b[0;34m]\u001b[0m\u001b[0;34m]\u001b[0m\u001b[0;34m)\u001b[0m\u001b[0;34m\u001b[0m\u001b[0;34m\u001b[0m\u001b[0m\n\u001b[0m\u001b[1;32m      5\u001b[0m \u001b[0mb\u001b[0m \u001b[0;34m=\u001b[0m \u001b[0mnp\u001b[0m\u001b[0;34m.\u001b[0m\u001b[0marray\u001b[0m\u001b[0;34m(\u001b[0m\u001b[0;34m[\u001b[0m\u001b[0;36m5\u001b[0m\u001b[0;34m,\u001b[0m \u001b[0;36m6\u001b[0m\u001b[0;34m]\u001b[0m\u001b[0;34m)\u001b[0m\u001b[0;34m\u001b[0m\u001b[0;34m\u001b[0m\u001b[0m\n\u001b[1;32m      6\u001b[0m \u001b[0;34m\u001b[0m\u001b[0m\n",
            "\u001b[0;31mNameError\u001b[0m: name 'np' is not defined"
          ]
        }
      ]
    },
    {
      "cell_type": "code",
      "source": [
        "A = np.array([[1, 2], [3, 4]])\n",
        "\n",
        "# Invert the matrix\n",
        "A_inv = la.inv(A)\n",
        "print(\"The origional matrix: \\n\", A)\n",
        "# Print the inverse matrix\n",
        "print(\"Inversed matrix:\\n\")\n",
        "print(A_inv)"
      ],
      "metadata": {
        "colab": {
          "base_uri": "https://localhost:8080/",
          "height": 245
        },
        "id": "N_-d3ZMxQBdS",
        "outputId": "0076d446-6a49-4633-b90a-ea3dc0308d69"
      },
      "execution_count": null,
      "outputs": [
        {
          "output_type": "error",
          "ename": "NameError",
          "evalue": "ignored",
          "traceback": [
            "\u001b[0;31m---------------------------------------------------------------------------\u001b[0m",
            "\u001b[0;31mNameError\u001b[0m                                 Traceback (most recent call last)",
            "\u001b[0;32m<ipython-input-4-0fbeedb16853>\u001b[0m in \u001b[0;36m<cell line: 1>\u001b[0;34m()\u001b[0m\n\u001b[0;32m----> 1\u001b[0;31m \u001b[0mA\u001b[0m \u001b[0;34m=\u001b[0m \u001b[0mnp\u001b[0m\u001b[0;34m.\u001b[0m\u001b[0marray\u001b[0m\u001b[0;34m(\u001b[0m\u001b[0;34m[\u001b[0m\u001b[0;34m[\u001b[0m\u001b[0;36m1\u001b[0m\u001b[0;34m,\u001b[0m \u001b[0;36m2\u001b[0m\u001b[0;34m]\u001b[0m\u001b[0;34m,\u001b[0m \u001b[0;34m[\u001b[0m\u001b[0;36m3\u001b[0m\u001b[0;34m,\u001b[0m \u001b[0;36m4\u001b[0m\u001b[0;34m]\u001b[0m\u001b[0;34m]\u001b[0m\u001b[0;34m)\u001b[0m\u001b[0;34m\u001b[0m\u001b[0;34m\u001b[0m\u001b[0m\n\u001b[0m\u001b[1;32m      2\u001b[0m \u001b[0;34m\u001b[0m\u001b[0m\n\u001b[1;32m      3\u001b[0m \u001b[0;31m# Invert the matrix\u001b[0m\u001b[0;34m\u001b[0m\u001b[0;34m\u001b[0m\u001b[0m\n\u001b[1;32m      4\u001b[0m \u001b[0mA_inv\u001b[0m \u001b[0;34m=\u001b[0m \u001b[0mla\u001b[0m\u001b[0;34m.\u001b[0m\u001b[0minv\u001b[0m\u001b[0;34m(\u001b[0m\u001b[0mA\u001b[0m\u001b[0;34m)\u001b[0m\u001b[0;34m\u001b[0m\u001b[0;34m\u001b[0m\u001b[0m\n\u001b[1;32m      5\u001b[0m \u001b[0mprint\u001b[0m\u001b[0;34m(\u001b[0m\u001b[0;34m\"The origional matrix: \\n\"\u001b[0m\u001b[0;34m,\u001b[0m \u001b[0mA\u001b[0m\u001b[0;34m)\u001b[0m\u001b[0;34m\u001b[0m\u001b[0;34m\u001b[0m\u001b[0m\n",
            "\u001b[0;31mNameError\u001b[0m: name 'np' is not defined"
          ]
        }
      ]
    },
    {
      "cell_type": "code",
      "source": [
        "# Create a matrix\n",
        "A = np.array([[1, 2], [3, 4]])\n",
        "\n",
        "# Compute the eigenvalues and eigenvectors\n",
        "w, v = la.eig(A)\n",
        "\n",
        "# Print the eigenvalues and eigenvectors\n",
        "print(w,\"\\n\")\n",
        "print(v)"
      ],
      "metadata": {
        "id": "BjQXyxknQFET"
      },
      "execution_count": null,
      "outputs": []
    },
    {
      "cell_type": "code",
      "source": [
        "# 4. Calculating the mean of an array\n",
        "mean_result = scipy.mean([1, 2, 3, 4, 5])\n",
        "print(\"Mean:\", mean_result)"
      ],
      "metadata": {
        "colab": {
          "base_uri": "https://localhost:8080/"
        },
        "id": "ixagqAu7Ryvi",
        "outputId": "18141929-cff7-4ad7-bb39-13ac95c10997"
      },
      "execution_count": null,
      "outputs": [
        {
          "output_type": "stream",
          "name": "stdout",
          "text": [
            "Mean: 3.0\n"
          ]
        },
        {
          "output_type": "stream",
          "name": "stderr",
          "text": [
            "<ipython-input-5-3f934e228391>:2: DeprecationWarning: scipy.mean is deprecated and will be removed in SciPy 2.0.0, use numpy.mean instead\n",
            "  mean_result = scipy.mean([1, 2, 3, 4, 5])\n"
          ]
        }
      ]
    },
    {
      "cell_type": "code",
      "source": [
        "vector1 = scipy.array([1, 2, 3])\n",
        "vector2 = scipy.array([4, 5, 6])\n",
        "dot_product_result = scipy.dot(vector1, vector2)\n",
        "print(\"Dot Product:\", dot_product_result)"
      ],
      "metadata": {
        "colab": {
          "base_uri": "https://localhost:8080/"
        },
        "id": "1YTudpbQuwid",
        "outputId": "b3124cb9-589d-4ac4-b432-1ef288ed62b7"
      },
      "execution_count": null,
      "outputs": [
        {
          "output_type": "stream",
          "name": "stdout",
          "text": [
            "Dot Product: 32\n"
          ]
        },
        {
          "output_type": "stream",
          "name": "stderr",
          "text": [
            "<ipython-input-6-92ce65ec73d9>:1: DeprecationWarning: scipy.array is deprecated and will be removed in SciPy 2.0.0, use numpy.array instead\n",
            "  vector1 = scipy.array([1, 2, 3])\n",
            "<ipython-input-6-92ce65ec73d9>:2: DeprecationWarning: scipy.array is deprecated and will be removed in SciPy 2.0.0, use numpy.array instead\n",
            "  vector2 = scipy.array([4, 5, 6])\n",
            "<ipython-input-6-92ce65ec73d9>:3: DeprecationWarning: scipy.dot is deprecated and will be removed in SciPy 2.0.0, use numpy.dot instead\n",
            "  dot_product_result = scipy.dot(vector1, vector2)\n"
          ]
        }
      ]
    },
    {
      "cell_type": "code",
      "source": [
        "#  Numerical integration of a function\n",
        "from scipy.integrate import quad\n",
        "\n",
        "def integrand(x):\n",
        "    return x**2\n",
        "\n",
        "integral_result, _ = quad(integrand, 0, 2)  # Integrate x^2 from 0 to 2\n",
        "print(\"Integral Result:\", integral_result)\n",
        "#  Numerical differentail of a function\n",
        "\n",
        "import scipy.misc as sp\n",
        "\n",
        "def f(x):\n",
        "  return x**2\n",
        "\n",
        "# Calculate the differential of x^2 at x=1\n",
        "differential = sp.derivative(f, 1)\n",
        "\n",
        "# Print the result\n",
        "print(\"The differential is\" ,differential)\n"
      ],
      "metadata": {
        "colab": {
          "base_uri": "https://localhost:8080/"
        },
        "id": "mOJLLSgYvFoc",
        "outputId": "00b8d8d7-ca54-473a-fa3f-2ace08372f10"
      },
      "execution_count": null,
      "outputs": [
        {
          "output_type": "stream",
          "name": "stdout",
          "text": [
            "Integral Result: 2.666666666666667\n",
            "The differential is 2.0\n"
          ]
        },
        {
          "output_type": "stream",
          "name": "stderr",
          "text": [
            "<ipython-input-12-932dc1891abd>:17: DeprecationWarning: scipy.misc.derivative is deprecated in SciPy v1.10.0; and will be completely removed in SciPy v1.12.0. You may consider using findiff: https://github.com/maroba/findiff or numdifftools: https://github.com/pbrod/numdifftools\n",
            "  differential = sp.derivative(f, 1)\n"
          ]
        }
      ]
    },
    {
      "cell_type": "code",
      "source": [
        "import scipy.stats as st\n",
        "\n",
        "# Generate random numbers from a normal distribution with a mean of 10 and a standard deviation of 5\n",
        "random_numbers = st.norm.rvs(10, 5, 10)\n",
        "\n",
        "# Print the random numbers\n",
        "print(random_numbers)"
      ],
      "metadata": {
        "colab": {
          "base_uri": "https://localhost:8080/"
        },
        "id": "iRXdu3gzvXtt",
        "outputId": "625bda32-ee6f-45b6-d819-1cfcb7634c71"
      },
      "execution_count": null,
      "outputs": [
        {
          "output_type": "stream",
          "name": "stdout",
          "text": [
            "[10.1686973   9.6672698  19.63702153  9.38782526  6.24784923 19.68414711\n",
            "  7.18612391 17.69705512 12.31092787  9.6998732 ]\n"
          ]
        }
      ]
    },
    {
      "cell_type": "code",
      "source": [],
      "metadata": {
        "id": "eWgze19x07s4"
      },
      "execution_count": null,
      "outputs": []
    }
  ]
}